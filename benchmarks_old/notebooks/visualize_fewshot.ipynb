{
 "cells": [
  {
   "cell_type": "code",
   "execution_count": 55,
   "metadata": {
    "scrolled": true
   },
   "outputs": [
    {
     "name": "stderr",
     "output_type": "stream",
     "text": [
      "100%|██████████| 108/108 [00:00<00:00, 847.86it/s]\n"
     ]
    },
    {
     "data": {
      "application/vnd.jupyter.widget-view+json": {
       "model_id": "1abcc16fd16944b79e6bf7f1b9b2f383",
       "version_major": 2,
       "version_minor": 0
      },
      "text/plain": [
       "HBox(children=(Text(value='/mnt/datasets/public/research/pau/pau-ousmane/logs_celeba_borgy/', description='sav…"
      ]
     },
     "metadata": {},
     "output_type": "display_data"
    },
    {
     "data": {
      "application/javascript": [
       "\n",
       "        require.config({\n",
       "            paths: {\n",
       "                DT: '//cdn.datatables.net/1.10.19/js/jquery.dataTables.min',\n",
       "            }\n",
       "        });\n",
       "        $('head').append('<link rel=\"stylesheet\" type=\"text/css\" href=\"//cdn.datatables.net/1.10.19/css/jquery.dataTables.min.css\">');\n",
       "    "
      ],
      "text/plain": [
       "<IPython.core.display.Javascript object>"
      ]
     },
     "metadata": {},
     "output_type": "display_data"
    },
    {
     "data": {
      "application/vnd.jupyter.widget-view+json": {
       "model_id": "3cfb56ac715d40eda30c161abc51817a",
       "version_major": 2,
       "version_minor": 0
      },
      "text/plain": [
       "Output()"
      ]
     },
     "metadata": {},
     "output_type": "display_data"
    },
    {
     "data": {
      "text/html": [
       "<style>.container { width:100% !important; }</style>"
      ],
      "text/plain": [
       "<IPython.core.display.HTML object>"
      ]
     },
     "metadata": {},
     "output_type": "display_data"
    },
    {
     "data": {
      "text/html": [
       "\n",
       "    <style>\n",
       "        .output_scroll {\n",
       "            height: unset !important;\n",
       "            border-radius: unset !important;\n",
       "            -webkit-box-shadow: unset !important;\n",
       "            box-shadow: unset !important;\n",
       "        }\n",
       "    </style>\n",
       "    "
      ],
      "text/plain": [
       "<IPython.core.display.HTML object>"
      ]
     },
     "metadata": {},
     "output_type": "display_data"
    }
   ],
   "source": [
    "# Specify variables\n",
    "# sys.path.insert(local_haven)\n",
    "from haven import haven_jupyter as hj\n",
    "from haven import haven_results as hr\n",
    "from haven import haven_utils as hu\n",
    "\n",
    "# please define the path to the experiments\n",
    "savedir_base = '/mnt/projects/vision_prototypes/synbols/logs_borgy'\n",
    "savedir_base = '/mnt/datasets/public/research/pau/pau-ousmane/logs_celeba_borgy/'\n",
    "\n",
    "exp_list = None\n",
    "\n",
    "# exp_config_name = <exp_config_name>\n",
    "# exp_list = hu.load_py(exp_config_name).EXP_GROUPS['mnist']\n",
    "\n",
    "# get specific experiments, for example, {'model':'resnet34'}\n",
    "filterby_list = None\n",
    "\n",
    "# group the experiments based on a hyperparameter, for example, ['dataset']\n",
    "groupby_list = None\n",
    "verbose = 0\n",
    "\n",
    "# plot vars\n",
    "y_metrics='train_loss'\n",
    "x_metric='epoch'\n",
    "log_metric_list = ['train_loss']\n",
    "map_exp_list = []\n",
    "title_list=['dataset']\n",
    "legend_list=['model']\n",
    "\n",
    "# get experiments\n",
    "rm = hr.ResultManager(exp_list=exp_list, \n",
    "                      savedir_base=savedir_base, \n",
    "                      filterby_list=filterby_list,\n",
    "                      verbose=verbose\n",
    "                     )\n",
    "score_lists = rm.get_score_lists()\n",
    "# score = rm.get_score_table(columns=['dataset', 'exp_id'])\n",
    "\n",
    "\n",
    "# launch dashboard\n",
    "hj.get_dashboard(rm, vars(), wide_display=True)"
   ]
  },
  {
   "cell_type": "code",
   "execution_count": 51,
   "metadata": {},
   "outputs": [],
   "source": [
    "import numpy as np\n",
    "\n",
    "exp_list = rm.get_exp_list_df()\n",
    "\n",
    "def get_hyperparameters(exp_list_df, min_threshold=2, max_threshold=None):\n",
    "    exp_list_df.reset_index()\n",
    "    if max_threshold is None:\n",
    "        max_threshold = exp_list.shape[0] - 1\n",
    "    column_count = []\n",
    "    for column in exp_list.columns:\n",
    "        _set = set([str(v) for v in exp_list[column].values])\n",
    "        column_count.append(len(_set))\n",
    "    indices = np.arange(len(exp_list.columns))\n",
    "    column_count = np.array(column_count)\n",
    "    indices = indices[(column_count >= min_threshold) & (column_count <= max_threshold)]\n",
    "    hyperparameters = [exp_list.columns[i] for i in indices]\n",
    "    return hyperparameters"
   ]
  },
  {
   "cell_type": "code",
   "execution_count": 52,
   "metadata": {},
   "outputs": [
    {
     "name": "stdout",
     "output_type": "stream",
     "text": [
      "[]\n"
     ]
    }
   ],
   "source": [
    "print(get_hyperparameters(exp_list, max_threshold=5))"
   ]
  },
  {
   "cell_type": "code",
   "execution_count": null,
   "metadata": {},
   "outputs": [],
   "source": [
    "# aggregate results\n",
    "result_list = []\n",
    "for exp_dict in rm.exp_list:\n",
    "    total_nested = 0\n",
    "    for k, v in exp_dict.items():\n",
    "        if isinstance(v, dict):\n",
    "            total_nested += 1\n",
    "    while total_nested > 0:\n",
    "        keys = exp_dict.keys()\n",
    "        for k in keys:\n",
    "            v = exp_dict[k]\n",
    "            if insinstance(v, dict):\n",
    "                for k2, v2 in v.items():\n",
    "                    exp_dict[\"%s_%s\" %(k, k2)] = v2\n",
    "                    if isinstance(v2, dict):\n",
    "                        total_nested += 1\n",
    "                total_nested -= 1\n",
    "                del(exp_dict[k])\n",
    "                \n",
    "    result_dict = {}\n",
    "\n",
    "    exp_id = hu.hash_dict(exp_dict)\n",
    "    result_dict[\"exp_id\"] = exp_id\n",
    "\n",
    "    for k in exp_dict:\n",
    "        result_dict[k] = exp_dict[k]\n",
    "\n",
    "    result_list += [result_dict]\n",
    "        \n",
    "pd.DataFrame(result_list)"
   ]
  }
 ],
 "metadata": {
  "kernelspec": {
   "display_name": "Python 3",
   "language": "python",
   "name": "python3"
  },
  "language_info": {
   "codemirror_mode": {
    "name": "ipython",
    "version": 3
   },
   "file_extension": ".py",
   "mimetype": "text/x-python",
   "name": "python",
   "nbconvert_exporter": "python",
   "pygments_lexer": "ipython3",
   "version": "3.7.7"
  }
 },
 "nbformat": 4,
 "nbformat_minor": 4
}
