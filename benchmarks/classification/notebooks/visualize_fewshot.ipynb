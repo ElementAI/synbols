{
 "cells": [
  {
   "cell_type": "code",
   "execution_count": 7,
   "metadata": {
    "scrolled": true
   },
   "outputs": [
    {
     "name": "stderr",
     "output_type": "stream",
     "text": [
      "100%|██████████| 1098/1098 [00:01<00:00, 632.24it/s]\n"
     ]
    },
    {
     "data": {
      "application/vnd.jupyter.widget-view+json": {
       "model_id": "4d3a9819f3f04316833be8624c4302dd",
       "version_major": 2,
       "version_minor": 0
      },
      "text/plain": [
       "VBox(children=(Label(value='Select exp_group', layout=Layout(width='200px')), HBox(children=(Dropdown(layout=L…"
      ]
     },
     "metadata": {},
     "output_type": "display_data"
    },
    {
     "data": {
      "application/javascript": [
       "\n",
       "        require.config({\n",
       "            paths: {\n",
       "                DT: '//cdn.datatables.net/1.10.19/js/jquery.dataTables.min',\n",
       "            }\n",
       "        });\n",
       "        $('head').append('<link rel=\"stylesheet\" type=\"text/css\" href=\"//cdn.datatables.net/1.10.19/css/jquery.dataTables.min.css\">');\n",
       "    "
      ],
      "text/plain": [
       "<IPython.core.display.Javascript object>"
      ]
     },
     "metadata": {},
     "output_type": "display_data"
    },
    {
     "data": {
      "application/vnd.jupyter.widget-view+json": {
       "model_id": "789bca7eb874444b87c50b551515eaae",
       "version_major": 2,
       "version_minor": 0
      },
      "text/plain": [
       "Output()"
      ]
     },
     "metadata": {},
     "output_type": "display_data"
    },
    {
     "data": {
      "text/html": [
       "<style>.container { width:100% !important; }</style>"
      ],
      "text/plain": [
       "<IPython.core.display.HTML object>"
      ]
     },
     "metadata": {},
     "output_type": "display_data"
    },
    {
     "data": {
      "text/html": [
       "\n",
       "        <style>\n",
       "            .output_scroll {\n",
       "                height: unset !important;\n",
       "                border-radius: unset !important;\n",
       "                -webkit-box-shadow: unset !important;\n",
       "                box-shadow: unset !important;\n",
       "            }\n",
       "        </style>\n",
       "        "
      ],
      "text/plain": [
       "<IPython.core.display.HTML object>"
      ]
     },
     "metadata": {},
     "output_type": "display_data"
    }
   ],
   "source": [
    "%matplotlib notebook\n",
    "# Specify variables\n",
    "# sys.path.insert(local_haven)\n",
    "from haven import haven_jupyter as hj\n",
    "from haven import haven_results as hr\n",
    "from haven import haven_utils as hu\n",
    "\n",
    "# please define the path to the experiments\n",
    "savedir_base = '/mnt/projects/vision_prototypes/synbols/white_noise_borgy'\n",
    "savedir_base = '/mnt/projects/vision_prototypes/synbols/logs_borgy_baselines/'\n",
    "# savedir_base = '/mnt/projects/vision_prototypes/synbols/font_plain_borgy/'\n",
    "\n",
    "exp_list = None\n",
    "\n",
    "# exp_config_name = <exp_config_name>\n",
    "# exp_list = hu.load_py(exp_config_name).EXP_GROUPS['mnist']\n",
    "\n",
    "# get specific experiments, for example, {'model':'resnet34'}\n",
    "filterby_list = None\n",
    "\n",
    "# group the experiments based on a hyperparameter, for example, ['dataset']\n",
    "groupby_list = None\n",
    "verbose = 0\n",
    "\n",
    "# plot vars\n",
    "# y_metrics='train_loss'\n",
    "x_metric='epoch'\n",
    "# log_metric_list = ['train_loss']\n",
    "map_exp_list = []\n",
    "# title_list=['dataset']\n",
    "# legend_list=['model']\n",
    "\n",
    "# get experiments\n",
    "rm = hr.ResultManager(exp_list=exp_list, \n",
    "                      savedir_base=savedir_base, \n",
    "                      filterby_list=filterby_list,\n",
    "                      verbose=verbose\n",
    "                     )\n",
    "score_lists = rm.get_score_lists()\n",
    "# score = rm.get_score_table(columns=['dataset', 'exp_id'])\n",
    "\n",
    "\n",
    "# launch dashboard\n",
    "hj.get_dashboard(rm, vars(), wide_display=True)"
   ]
  },
  {
   "cell_type": "code",
   "execution_count": 2,
   "metadata": {},
   "outputs": [],
   "source": [
    "import numpy as np\n",
    "\n",
    "exp_list = rm.get_exp_list_df()\n",
    "\n",
    "def get_hyperparameters(exp_list_df, min_threshold=2, max_threshold=None):\n",
    "    exp_list_df.reset_index()\n",
    "    if max_threshold is None:\n",
    "        max_threshold = exp_list.shape[0] - 1\n",
    "    column_count = []\n",
    "    for column in exp_list.columns:\n",
    "        _set = set([str(v) for v in exp_list[column].values])\n",
    "        column_count.append(len(_set))\n",
    "    indices = np.arange(len(exp_list.columns))\n",
    "    column_count = np.array(column_count)\n",
    "    indices = indices[(column_count >= min_threshold) & (column_count <= max_threshold)]\n",
    "    hyperparameters = [exp_list.columns[i] for i in indices]\n",
    "    return hyperparameters"
   ]
  },
  {
   "cell_type": "code",
   "execution_count": 3,
   "metadata": {},
   "outputs": [],
   "source": [
    "from matplotlib.backends.backend_pdf import PdfPages\n",
    "import matplotlib.pyplot as plt\n",
    "\n",
    "def multipage(filename, figs=None, dpi=200):\n",
    "    pp = PdfPages(filename)\n",
    "    if figs is None:\n",
    "        figs = [plt.figure(n) for n in plt.get_fignums()]\n",
    "    for fig in figs:\n",
    "        fig.savefig(pp, format='pdf')\n",
    "    pp.close()\n",
    "multipage('synbols.pdf')"
   ]
  },
  {
   "cell_type": "markdown",
   "metadata": {},
   "source": [
    "## Show accuracies"
   ]
  },
  {
   "cell_type": "code",
   "execution_count": 15,
   "metadata": {},
   "outputs": [
    {
     "name": "stdout",
     "output_type": "stream",
     "text": [
      "Dset:mnist, Task:char, MASK:'random'\n",
      "98.54 ±0.08\n",
      "99.41 ±0.03\n",
      "99.54 ±0.06\n",
      "99.65 ±0.01\n",
      "99.62 ±0.07\n",
      "99.71 ±0.04\n",
      "Dset:svhn, Task:char, MASK:'random'\n",
      "85.63 ±0.15\n",
      "91.46 ±0.19\n",
      "93.75 ±0.04\n",
      "96.16 ±0.04\n",
      "95.74 ±0.21\n",
      "96.73 ±0.12\n",
      "Dset:default_n=100000_, Task:font, MASK:'random'\n",
      "0.17 ±0.01\n",
      "4.80 ±0.61\n",
      "3.79 ±0.36\n",
      "nan ±nan\n",
      "1.33 ±0.18\n",
      "13.99 ±2.77\n",
      "Dset:default_n=100000_, Task:font, MASK:'stratified_char'\n",
      "0.21 ±0.04\n",
      "4.90 ±0.24\n",
      "3.76 ±0.28\n",
      "nan ±nan\n",
      "1.35 ±0.15\n",
      "9.80 ±1.20\n",
      "Dset:default_n=100000_, Task:char, MASK:'random'\n",
      "23.79 ±0.33\n",
      "71.53 ±0.91\n",
      "74.34 ±0.33\n",
      "80.86 ±0.43\n",
      "79.87 ±0.17\n",
      "82.73 ±0.21\n",
      "Dset:default_n=100000_, Task:char, MASK:'stratified_font'\n",
      "24.00 ±0.72\n",
      "71.87 ±0.71\n",
      "73.56 ±0.12\n",
      "80.93 ±0.18\n",
      "78.53 ±2.04\n",
      "82.35 ±0.02\n",
      "Dset:default_n=100000_, Task:char, MASK:'compositional_char_font'\n",
      "15.52 ±0.05\n",
      "62.41 ±0.36\n",
      "66.25 ±0.32\n",
      "nan ±nan\n",
      "70.53 ±2.87\n",
      "76.31 ±1.14\n",
      "Dset:default_n=100000_, Task:char, MASK:'stratified_scale'\n",
      "12.90 ±0.11\n",
      "70.03 ±0.64\n",
      "74.69 ±0.15\n",
      "80.43 ±0.26\n",
      "77.61 ±0.67\n",
      "78.96 ±0.39\n",
      "Dset:default_n=100000_, Task:char, MASK:'stratified_rotation'\n",
      "15.79 ±0.67\n",
      "65.00 ±0.41\n",
      "69.28 ±0.06\n",
      "78.47 ±0.87\n",
      "75.53 ±0.15\n",
      "76.89 ±0.33\n",
      "Dset:default_n=100000_, Task:char, MASK:'stratified_translation-x'\n",
      "12.58 ±1.07\n",
      "72.08 ±0.42\n",
      "67.13 ±0.85\n",
      "81.11 ±0.43\n",
      "78.10 ±0.47\n",
      "80.31 ±0.48\n",
      "Dset:default_n=100000_, Task:char, MASK:'stratified_translation-y'\n",
      "15.23 ±0.11\n",
      "71.04 ±0.53\n",
      "66.89 ±0.71\n",
      "81.11 ±0.27\n",
      "76.64 ±0.42\n",
      "80.33 ±0.12\n",
      "Dset:default_n=1000000_, Task:char, MASK:'random'\n",
      "60.25 ±0.54\n",
      "81.13 ±0.04\n",
      "84.75 ±0.07\n",
      "87.33 ±0.06\n",
      "85.36 ±0.91\n",
      "88.40 ±0.09\n",
      "Dset:default_n=1000000_, Task:char, MASK:'compositional_char_font'\n",
      "55.97 ±0.80\n",
      "92.55 ±0.08\n",
      "94.34 ±0.23\n",
      "97.13 ±0.01\n",
      "95.74 ±0.91\n",
      "96.49 ±0.17\n",
      "Dset:default_n=1000000_, Task:char, MASK:'compositional_rotation_scale'\n",
      "58.37 ±0.24\n",
      "91.79 ±0.15\n",
      "92.99 ±0.32\n",
      "97.49 ±0.13\n",
      "96.39 ±0.35\n",
      "97.03 ±0.32\n",
      "Dset:default_n=1000000_, Task:char, MASK:'compositional_translation-x_translation-y'\n",
      "48.94 ±0.64\n",
      "94.25 ±0.10\n",
      "92.23 ±0.41\n",
      "98.84 ±0.04\n",
      "98.30 ±0.03\n",
      "98.66 ±0.13\n",
      "Dset:camouflage, Task:char, MASK:'random'\n",
      "2.10 ±0.02\n",
      "27.64 ±0.76\n",
      "43.70 ±0.94\n",
      "74.83 ±0.23\n",
      "69.57 ±0.33\n",
      "72.56 ±1.40\n",
      "Dset:tiny, Task:char, MASK:'random'\n",
      "33.30 ±0.31\n",
      "40.87 ±0.65\n",
      "nan ±nan\n",
      "nan ±nan\n",
      "nan ±nan\n",
      "nan ±nan\n",
      "Dset:less_variations_n=100000_, Task:font, MASK:'random'\n",
      "0.17 ±0.02\n",
      "13.51 ±2.55\n",
      "5.85 ±0.20\n",
      "35.14 ±2.77\n",
      "3.77 ±1.58\n",
      "25.44 ±0.76\n",
      "Dset:less_variations_n=100000_, Task:font, MASK:'stratified_char'\n",
      "0.16 ±0.01\n",
      "10.54 ±1.20\n",
      "5.36 ±0.17\n",
      "19.77 ±0.38\n",
      "2.11 ±0.37\n",
      "13.64 ±2.90\n",
      "Dset:less_variations_n=1000000_, Task:font, MASK:'random'\n",
      "4.11 ±0.14\n",
      "56.51 ±0.50\n",
      "75.40 ±0.96\n",
      "88.73 ±0.16\n",
      "62.37 ±6.37\n",
      "88.66 ±0.60\n"
     ]
    }
   ],
   "source": [
    "import numpy as np\n",
    "df = rm.get_score_df()\n",
    "datasets = [\"mnist\", \"svhn\", \"default_n=100000_\",\"default_n=1000000_\", \"camouflage\", \"tiny\",  \"less_variations_n=100000_\", \"less_variations_n=1000000_\"]\n",
    "models = [\"mlp\", \"conv4\", \"resnet18\", \"wrn\", \"vgg16\", \"warn\"]\n",
    "masks = [\"'random'\", \"'stratified_font'\", \"'stratified_char'\", \"'compositional_char_font'\", \"'stratified_scale'\", \"'stratified_rotation'\", \"'compositional_rotation_scale'\", \"'stratified_translation-x'\", \"'stratified_translation-y'\", \"'compositional_translation-x_translation-y'\"]\n",
    "tasks = [\"font\", \"char\"]\n",
    "\n",
    "def filter_dataset(dataframe, dset):\n",
    "    if dataset in [\"mnist\", \"svhn\"]:\n",
    "        df_dataset = dataframe[dataframe[\"dataset.name\"].str.contains(dset)]\n",
    "    else:\n",
    "        df_dataset = dataframe[dataframe[\"dataset.path\"].str.contains(dset)]\n",
    "    return df_dataset\n",
    "def filter_task(dataframe, task):\n",
    "    if dataset not in [\"mnist\", \"svhn\"]:\n",
    "        df_dataset = dataframe[dataframe[\"dataset.task\"].str.contains(task)]\n",
    "    else:\n",
    "        df_dataset = dataframe\n",
    "    return df_dataset \n",
    "def filter_mask(dataframe, mask):\n",
    "    df_ood = dataframe[dataframe['dataset.mask'] == mask]\n",
    "    return df_ood\n",
    "\n",
    "\n",
    "for dataset in datasets:\n",
    "    #     df_model = df[df[\"backbone.name\"].str.contains(model)]\n",
    "    df_dataset = filter_dataset(df, dataset)\n",
    "    for task in tasks:\n",
    "        df_task = filter_task(df_dataset, task)\n",
    "        for mask in masks:\n",
    "\n",
    "            if dataset not in [\"mnist\", \"svhn\"]:\n",
    "                df_ood = filter_mask(df_task, mask)\n",
    "            else:\n",
    "                df_ood = df_task\n",
    "                if task != \"char\" or mask != \"'random'\":\n",
    "                    continue\n",
    "            if len(df_ood) == 0:\n",
    "                continue\n",
    "            print(\"Dset:%s, Task:%s, MASK:%s\"% (dataset, task, mask))\n",
    "            for model in models:\n",
    "                df_model = df_ood[df_ood[\"backbone.name\"].str.contains(model)]\n",
    "                df_model = df_model.groupby('seed')[\"val_accuracy (max)\"].agg(np.nanmax).reset_index()\n",
    "                print(\"%.02f ±%.02f\" %(100*df_model[\"val_accuracy (max)\"].agg(np.nanmean), 100*df_model[\"val_accuracy (max)\"].agg(np.nanstd)))#, df_model[\"val_accuracy (max)\"].std())\n"
   ]
  },
  {
   "cell_type": "markdown",
   "metadata": {},
   "source": [
    "## Show times"
   ]
  },
  {
   "cell_type": "code",
   "execution_count": 17,
   "metadata": {},
   "outputs": [
    {
     "name": "stdout",
     "output_type": "stream",
     "text": [
      "tiny\n",
      "0.0018573602040608723\n",
      "0.0030656655629475913\n",
      "nan\n",
      "nan\n",
      "nan\n",
      "nan\n"
     ]
    }
   ],
   "source": [
    "df = rm.get_score_df()\n",
    "\n",
    "datasets = [\"plain\", \"default_n=1000000_\", \"default_n=100000_\", \"mnist\", \"svhn\", \"tiny\"]\n",
    "datasets = [\"tiny\"]\n",
    "models = [\"mlp\", \"conv4\", \"resnet18\", \"resnet50\", \"vgg16\", \"warn\"]\n",
    "\n",
    "\n",
    "for dataset in datasets:\n",
    "#     df_model = df[df[\"backbone.name\"].str.contains(model)]\n",
    "    print(dataset)\n",
    "    if dataset in [\"mnist\", \"svhn\"]:\n",
    "        df_dataset = df[df[\"dataset.name\"].str.contains(dataset)]\n",
    "    else:\n",
    "        df_dataset = df[df[\"dataset.path\"].str.contains(dataset)]\n",
    "    for model in models:\n",
    "        df_model = df_dataset[df_dataset[\"backbone.name\"].str.contains(model)]\n",
    "        print(df_model[\"val_batch_time\"].mean())"
   ]
  },
  {
   "cell_type": "code",
   "execution_count": null,
   "metadata": {},
   "outputs": [],
   "source": []
  }
 ],
 "metadata": {
  "kernelspec": {
   "display_name": "Python 3",
   "language": "python",
   "name": "python3"
  },
  "language_info": {
   "codemirror_mode": {
    "name": "ipython",
    "version": 3
   },
   "file_extension": ".py",
   "mimetype": "text/x-python",
   "name": "python",
   "nbconvert_exporter": "python",
   "pygments_lexer": "ipython3",
   "version": "3.7.7"
  }
 },
 "nbformat": 4,
 "nbformat_minor": 4
}
