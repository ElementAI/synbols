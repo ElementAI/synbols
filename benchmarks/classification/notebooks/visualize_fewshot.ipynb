{
 "cells": [
  {
   "cell_type": "code",
   "execution_count": 1,
   "metadata": {
    "scrolled": true
   },
   "outputs": [
    {
     "name": "stderr",
     "output_type": "stream",
     "text": [
      "100%|██████████| 2/2 [00:00<00:00, 224.82it/s]\n"
     ]
    },
    {
     "data": {
      "application/vnd.jupyter.widget-view+json": {
       "model_id": "d189aeb642ec44e9ae6d023fcd4b37c7",
       "version_major": 2,
       "version_minor": 0
      },
      "text/plain": [
       "VBox(children=(Label(value='Select exp_group', layout=Layout(width='200px')), HBox(children=(Dropdown(layout=L…"
      ]
     },
     "metadata": {},
     "output_type": "display_data"
    },
    {
     "data": {
      "application/javascript": [
       "\n",
       "        require.config({\n",
       "            paths: {\n",
       "                DT: '//cdn.datatables.net/1.10.19/js/jquery.dataTables.min',\n",
       "            }\n",
       "        });\n",
       "        $('head').append('<link rel=\"stylesheet\" type=\"text/css\" href=\"//cdn.datatables.net/1.10.19/css/jquery.dataTables.min.css\">');\n",
       "    "
      ],
      "text/plain": [
       "<IPython.core.display.Javascript object>"
      ]
     },
     "metadata": {},
     "output_type": "display_data"
    },
    {
     "data": {
      "application/vnd.jupyter.widget-view+json": {
       "model_id": "0d90a94d003641049a34cf677ba01025",
       "version_major": 2,
       "version_minor": 0
      },
      "text/plain": [
       "Output()"
      ]
     },
     "metadata": {},
     "output_type": "display_data"
    },
    {
     "data": {
      "text/html": [
       "<style>.container { width:100% !important; }</style>"
      ],
      "text/plain": [
       "<IPython.core.display.HTML object>"
      ]
     },
     "metadata": {},
     "output_type": "display_data"
    },
    {
     "data": {
      "text/html": [
       "\n",
       "        <style>\n",
       "            .output_scroll {\n",
       "                height: unset !important;\n",
       "                border-radius: unset !important;\n",
       "                -webkit-box-shadow: unset !important;\n",
       "                box-shadow: unset !important;\n",
       "            }\n",
       "        </style>\n",
       "        "
      ],
      "text/plain": [
       "<IPython.core.display.HTML object>"
      ]
     },
     "metadata": {},
     "output_type": "display_data"
    }
   ],
   "source": [
    "# Specify variables\n",
    "# sys.path.insert(local_haven)\n",
    "from haven import haven_jupyter as hj\n",
    "from haven import haven_results as hr\n",
    "from haven import haven_utils as hu\n",
    "\n",
    "# please define the path to the experiments\n",
    "savedir_base = '/mnt/projects/vision_prototypes/synbols/logs_borgy_baselines_adam_hdf5/'\n",
    "savedir_base = '/mnt/projects/vision_prototypes/synbols/font_plain_borgy/'\n",
    "\n",
    "exp_list = None\n",
    "\n",
    "# exp_config_name = <exp_config_name>\n",
    "# exp_list = hu.load_py(exp_config_name).EXP_GROUPS['mnist']\n",
    "\n",
    "# get specific experiments, for example, {'model':'resnet34'}\n",
    "filterby_list = None\n",
    "\n",
    "# group the experiments based on a hyperparameter, for example, ['dataset']\n",
    "groupby_list = None\n",
    "verbose = 0\n",
    "\n",
    "# plot vars\n",
    "# y_metrics='train_loss'\n",
    "x_metric='epoch'\n",
    "# log_metric_list = ['train_loss']\n",
    "map_exp_list = []\n",
    "# title_list=['dataset']\n",
    "# legend_list=['model']\n",
    "\n",
    "# get experiments\n",
    "rm = hr.ResultManager(exp_list=exp_list, \n",
    "                      savedir_base=savedir_base, \n",
    "                      filterby_list=filterby_list,\n",
    "                      verbose=verbose\n",
    "                     )\n",
    "score_lists = rm.get_score_lists()\n",
    "# score = rm.get_score_table(columns=['dataset', 'exp_id'])\n",
    "\n",
    "\n",
    "# launch dashboard\n",
    "hj.get_dashboard(rm, vars(), wide_display=True)"
   ]
  },
  {
   "cell_type": "code",
   "execution_count": 51,
   "metadata": {},
   "outputs": [],
   "source": [
    "import numpy as np\n",
    "\n",
    "exp_list = rm.get_exp_list_df()\n",
    "\n",
    "def get_hyperparameters(exp_list_df, min_threshold=2, max_threshold=None):\n",
    "    exp_list_df.reset_index()\n",
    "    if max_threshold is None:\n",
    "        max_threshold = exp_list.shape[0] - 1\n",
    "    column_count = []\n",
    "    for column in exp_list.columns:\n",
    "        _set = set([str(v) for v in exp_list[column].values])\n",
    "        column_count.append(len(_set))\n",
    "    indices = np.arange(len(exp_list.columns))\n",
    "    column_count = np.array(column_count)\n",
    "    indices = indices[(column_count >= min_threshold) & (column_count <= max_threshold)]\n",
    "    hyperparameters = [exp_list.columns[i] for i in indices]\n",
    "    return hyperparameters"
   ]
  },
  {
   "cell_type": "code",
   "execution_count": 3,
   "metadata": {},
   "outputs": [],
   "source": [
    "from matplotlib.backends.backend_pdf import PdfPages\n",
    "import matplotlib.pyplot as plt\n",
    "\n",
    "def multipage(filename, figs=None, dpi=200):\n",
    "    pp = PdfPages(filename)\n",
    "    if figs is None:\n",
    "        figs = [plt.figure(n) for n in plt.get_fignums()]\n",
    "    for fig in figs:\n",
    "        fig.savefig(pp, format='pdf')\n",
    "    pp.close()\n",
    "multipage('synbols.pdf')"
   ]
  },
  {
   "cell_type": "markdown",
   "metadata": {},
   "source": [
    "## Show accuracies"
   ]
  },
  {
   "cell_type": "code",
   "execution_count": null,
   "metadata": {},
   "outputs": [],
   "source": [
    "df = rm.get_score_df()\n",
    "datasets = [\"plain\", \"default_n=1000000_\", \"default_n=100000_\", \"mnist\", \"svhn\", \"camouflage\"]\n",
    "models = [\"mlp\", \"conv4\", \"resnet18\", \"resnet50\", \"vgg16\", \"warn\"]\n",
    "\n",
    "\n",
    "for dataset in datasets:\n",
    "#     df_model = df[df[\"backbone.name\"].str.contains(model)]\n",
    "    print(dataset)\n",
    "    if dataset in [\"mnist\", \"svhn\"]:\n",
    "        df_dataset = df[df[\"dataset.name\"].str.contains(dataset)]\n",
    "    else:\n",
    "        df_dataset = df[df[\"dataset.path\"].str.contains(dataset)]\n",
    "    for model in models:\n",
    "        df_model = df_dataset[df_dataset[\"backbone.name\"].str.contains(model)]\n",
    "        print(df_model[\"val_accuracy (max)\"].max())\n"
   ]
  },
  {
   "cell_type": "markdown",
   "metadata": {},
   "source": [
    "## Show times"
   ]
  },
  {
   "cell_type": "code",
   "execution_count": null,
   "metadata": {},
   "outputs": [],
   "source": [
    "df = rm.get_score_df()\n",
    "datasets = [\"plain\", \"default_n=1000000_\", \"default_n=100000_\", \"mnist\", \"svhn\"]\n",
    "models = [\"mlp\", \"conv4\", \"resnet18\", \"resnet50\", \"vgg16\", \"warn\"]\n",
    "\n",
    "\n",
    "for dataset in datasets:\n",
    "#     df_model = df[df[\"backbone.name\"].str.contains(model)]\n",
    "    print(dataset)\n",
    "    if dataset in [\"mnist\", \"svhn\"]:\n",
    "        df_dataset = df[df[\"dataset.name\"].str.contains(dataset)]\n",
    "    else:\n",
    "        df_dataset = df[df[\"dataset.path\"].str.contains(dataset)]\n",
    "    for model in models:\n",
    "        df_model = df_dataset[df_dataset[\"backbone.name\"].str.contains(model)]\n",
    "        print((df_model[\"val_batch_time\"].mean())"
   ]
  }
 ],
 "metadata": {
  "kernelspec": {
   "display_name": "Python 3",
   "language": "python",
   "name": "python3"
  },
  "language_info": {
   "codemirror_mode": {
    "name": "ipython",
    "version": 3
   },
   "file_extension": ".py",
   "mimetype": "text/x-python",
   "name": "python",
   "nbconvert_exporter": "python",
   "pygments_lexer": "ipython3",
   "version": "3.7.7"
  }
 },
 "nbformat": 4,
 "nbformat_minor": 4
}
